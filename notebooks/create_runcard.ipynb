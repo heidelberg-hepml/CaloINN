{
 "cells": [
  {
   "cell_type": "code",
   "execution_count": 1,
   "metadata": {},
   "outputs": [],
   "source": [
    "import yaml\n",
    "import numpy as np"
   ]
  },
  {
   "cell_type": "code",
   "execution_count": 2,
   "metadata": {},
   "outputs": [
    {
     "name": "stdout",
     "output_type": "stream",
     "text": [
      "/remote/gpu06/ernst/Master_Thesis/add_VAE/CaloINN\n"
     ]
    }
   ],
   "source": [
    "cd .."
   ]
  },
  {
   "attachments": {},
   "cell_type": "markdown",
   "metadata": {},
   "source": [
    "# Default"
   ]
  },
  {
   "cell_type": "code",
   "execution_count": 4,
   "metadata": {},
   "outputs": [],
   "source": [
    "block_name = ...\n",
    "\n",
    "hidden_sizes_list = [[80, 80, 70, 70, 60, 50], ]\n",
    "latent_dim_list = [20, ]\n",
    "data_resolution_list = [\"large\", ]\n",
    "lr_list = [1.e-4, ]\n",
    "\n",
    "run = 0\n",
    "\n",
    "for hidden_sizes in hidden_sizes_list:\n",
    "    for laten_dim in latent_dim_list:\n",
    "        for data_resolution in data_resolution_list:\n",
    "            for lr in lr_list:\n",
    "                \n",
    "                with open(\"params/\" + \"basis_run_vae.yaml\") as f:\n",
    "                    params = yaml.load(f, Loader=yaml.FullLoader)\n",
    "                \n",
    "                params[\"run_name\"] = ...\n",
    "                params[\"block_name\"] = block_name\n",
    "                \n",
    "                params[\"hidden_sizes\"] = hidden_sizes\n",
    "                params[\"latent_dim\"] = laten_dim\n",
    "                params[\"data_resolution\"] = data_resolution\n",
    "                params[\"lr\"] = lr\n",
    "                        \n",
    "                with open(\"params/\" + f\"run_{run+1}.yaml\", \"w\") as f:\n",
    "                    yaml.dump(params, f)\n",
    "                            \n",
    "                run += 1"
   ]
  },
  {
   "attachments": {},
   "cell_type": "markdown",
   "metadata": {},
   "source": [
    "# Hidden sizes variation"
   ]
  },
  {
   "cell_type": "code",
   "execution_count": 7,
   "metadata": {},
   "outputs": [],
   "source": [
    "block_name = \"tuning_vae_parameters\"\n",
    "\n",
    "hidden_sizes_list = [[80, 60, 40, 20], [80, 70, 60, 50, 40, 30, 20], [80, 55, 30], [80, 80, 80, 55, 30, 30, 30]]\n",
    "\n",
    "latent_dim_list = [20, ]\n",
    "data_resolution_list = [\"large\", ]\n",
    "\n",
    "run = 0\n",
    "\n",
    "for hidden_sizes in hidden_sizes_list:\n",
    "    for laten_dim in latent_dim_list:\n",
    "        for data_resolution in data_resolution_list:\n",
    "            \n",
    "            with open(\"params/\" + \"basis_run_vae.yaml\") as f:\n",
    "                params = yaml.load(f, Loader=yaml.FullLoader)\n",
    "            \n",
    "            params[\"run_name\"] = f\"hidden_sizes:{hidden_sizes}\".replace(\" \", \"\")\n",
    "            params[\"block_name\"] = block_name\n",
    "            \n",
    "            params[\"hidden_sizes\"] = hidden_sizes\n",
    "            params[\"latent_dim\"] = laten_dim\n",
    "            params[\"data_resolution\"] = data_resolution\n",
    "                    \n",
    "            with open(\"params/\" + f\"run_{run+1}.yaml\", \"w\") as f:\n",
    "                yaml.dump(params, f)\n",
    "                        \n",
    "            run += 1"
   ]
  },
  {
   "cell_type": "code",
   "execution_count": 10,
   "metadata": {},
   "outputs": [],
   "source": [
    "block_name = \"tuning_vae_parameters\"\n",
    "\n",
    "hidden_sizes_list = [[80, 55, 30], ]\n",
    "latent_dim_list = [20, ]\n",
    "data_resolution_list = [\"large\", ]\n",
    "lr_list = [1.e-4, ]\n",
    "n_epochs_list = [600, ]\n",
    "\n",
    "compare_total_energy_list = [True, False]\n",
    "\n",
    "run = 0\n",
    "\n",
    "for hidden_sizes in hidden_sizes_list:\n",
    "    for laten_dim in latent_dim_list:\n",
    "        for data_resolution in data_resolution_list:\n",
    "            for lr in lr_list:\n",
    "                for n_epochs in n_epochs_list:\n",
    "                    for compare_total_energy in compare_total_energy_list:\n",
    "                    \n",
    "                        with open(\"params/\" + \"basis_run_vae.yaml\") as f:\n",
    "                            params = yaml.load(f, Loader=yaml.FullLoader)\n",
    "                        \n",
    "                        params[\"run_name\"] = f\"hidden_sizes:{hidden_sizes}_compare_energy:{compare_total_energy}\".replace(\" \", \"\")\n",
    "                        params[\"block_name\"] = block_name\n",
    "                        \n",
    "                        params[\"conditional\"] = True\n",
    "                        params[\"compare_total_energy\"] = compare_total_energy\n",
    "                        \n",
    "                        params[\"hidden_sizes\"] = hidden_sizes\n",
    "                        params[\"latent_dim\"] = laten_dim\n",
    "                        params[\"data_resolution\"] = data_resolution\n",
    "                        params[\"lr\"] = lr\n",
    "                        params[\"n_epochs\"] = n_epochs\n",
    "                                \n",
    "                        with open(\"params/\" + f\"run_{run+1}.yaml\", \"w\") as f:\n",
    "                            yaml.dump(params, f)\n",
    "                                    \n",
    "                        run += 1"
   ]
  },
  {
   "attachments": {},
   "cell_type": "markdown",
   "metadata": {},
   "source": [
    "# Go to larger dataset"
   ]
  },
  {
   "cell_type": "code",
   "execution_count": 4,
   "metadata": {},
   "outputs": [],
   "source": [
    "block_name = \"Using_full_dataset\"\n",
    "\n",
    "hidden_sizes_list = [[450, 300, 150], ]\n",
    "# hidden_sizes_list = [[450, 350, 250, 200, 100], ]\n",
    "latent_dim_list = [40, ]\n",
    "data_resolution_list = [\"full\", ]\n",
    "gamma_list = [1.e+3, 1.e+4, 1.e+5]\n",
    "\n",
    "lr_list = [5.e-4]\n",
    "n_epochs_list = [1000]\n",
    "\n",
    "compare_total_energy_list = [False]\n",
    "\n",
    "run = 0\n",
    "\n",
    "for hidden_sizes in hidden_sizes_list:\n",
    "    for latent_dim in latent_dim_list:\n",
    "        for data_resolution in data_resolution_list:\n",
    "            for lr, n_epochs in zip(lr_list, n_epochs_list):\n",
    "                for compare_total_energy in compare_total_energy_list:\n",
    "                    for gamma in gamma_list:\n",
    "                \n",
    "                        with open(\"params/\" + \"basis_run_vae.yaml\") as f:\n",
    "                            params = yaml.load(f, Loader=yaml.FullLoader)\n",
    "                        \n",
    "                        params[\"run_name\"] = f\"hidden_sizes:{hidden_sizes}_{latent_dim}_latent_{int(gamma)}_gamma_{lr}_lr\".replace(\" \", \"\")\n",
    "                        params[\"block_name\"] = block_name\n",
    "                        \n",
    "                        params[\"conditional\"] = True\n",
    "                        params[\"compare_total_energy\"] = compare_total_energy\n",
    "                        \n",
    "                        params[\"hidden_sizes\"] = hidden_sizes\n",
    "                        params[\"latent_dim\"] = latent_dim\n",
    "                        params[\"data_resolution\"] = data_resolution\n",
    "                        params[\"lr\"] = lr\n",
    "                        params[\"n_epochs\"] = n_epochs\n",
    "                        params[\"gamma\"] = gamma\n",
    "                                \n",
    "                        with open(\"params/\" + f\"run_{run+1}.yaml\", \"w\") as f:\n",
    "                            yaml.dump(params, f)\n",
    "                                    \n",
    "                        run += 1"
   ]
  },
  {
   "attachments": {},
   "cell_type": "markdown",
   "metadata": {},
   "source": [
    "# After refactoring (Changed preprocessing)"
   ]
  },
  {
   "cell_type": "code",
   "execution_count": 3,
   "metadata": {},
   "outputs": [],
   "source": [
    "block_name = \"variate_beta\"\n",
    "\n",
    "hidden_sizes_list = [[450, 300, 150], ]\n",
    "latent_dim_list = [40, ]\n",
    "gamma_list = [1.e+4, ]\n",
    "beta_list = [1.e1, 1., 1.e-1, 1.e-2]\n",
    "\n",
    "lr_list = [5.e-4, ]\n",
    "n_epochs_list = [500, ]\n",
    "\n",
    "run = 0\n",
    "\n",
    "for hidden_sizes in hidden_sizes_list:\n",
    "    for latent_dim in latent_dim_list:\n",
    "        for lr, n_epochs in zip(lr_list, n_epochs_list):\n",
    "            for gamma in gamma_list:\n",
    "                for beta in beta_list:\n",
    "            \n",
    "                    with open(\"params/\" + \"basis_run_vae.yaml\") as f:\n",
    "                        params = yaml.load(f, Loader=yaml.FullLoader)\n",
    "                    \n",
    "                    params[\"run_name\"] = f\"mae_on_logit_{int(np.log10(beta))}_beta_{lr}_lr\".replace(\" \", \"\")\n",
    "                    params[\"block_name\"] = block_name\n",
    "                    \n",
    "                    params[\"VAE_hidden_sizes\"] = hidden_sizes\n",
    "                    params[\"VAE_latent_dim\"] = latent_dim\n",
    "                    params[\"VAE_lr\"] = lr\n",
    "                    params[\"VAE_n_epochs\"] = n_epochs\n",
    "                    params[\"VAE_gamma\"] = gamma\n",
    "                    params[\"VAE_beta\"] = beta\n",
    "                            \n",
    "                    with open(\"params/\" + f\"run_{run+1}.yaml\", \"w\") as f:\n",
    "                        yaml.dump(params, f)\n",
    "                                \n",
    "                    run += 1"
   ]
  }
 ],
 "metadata": {
  "kernelspec": {
   "display_name": "Python 3.10.6",
   "language": "python",
   "name": "python3"
  },
  "language_info": {
   "codemirror_mode": {
    "name": "ipython",
    "version": 3
   },
   "file_extension": ".py",
   "mimetype": "text/x-python",
   "name": "python",
   "nbconvert_exporter": "python",
   "pygments_lexer": "ipython3",
   "version": "3.10.6"
  },
  "vscode": {
   "interpreter": {
    "hash": "51d46b1057c4696c626cdc8830621afab27494f007d13e43c67d358dbe36a08c"
   }
  }
 },
 "nbformat": 4,
 "nbformat_minor": 4
}
