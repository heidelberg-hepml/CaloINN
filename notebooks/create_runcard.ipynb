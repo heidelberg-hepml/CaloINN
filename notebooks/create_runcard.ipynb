{
 "cells": [
  {
   "cell_type": "code",
   "execution_count": 2,
   "metadata": {},
   "outputs": [],
   "source": [
    "import yaml\n",
    "import numpy as np"
   ]
  },
  {
   "cell_type": "code",
   "execution_count": 3,
   "metadata": {},
   "outputs": [
    {
     "name": "stdout",
     "output_type": "stream",
     "text": [
      "/remote/gpu06/ernst/Master_Thesis/vae_calo_challenge/CaloINN\n"
     ]
    }
   ],
   "source": [
    "cd .."
   ]
  },
  {
   "attachments": {},
   "cell_type": "markdown",
   "metadata": {},
   "source": [
    "# Default"
   ]
  },
  {
   "cell_type": "code",
   "execution_count": 4,
   "metadata": {},
   "outputs": [],
   "source": [
    "block_name = \"variate_beta\"\n",
    "\n",
    "gamma_list = [1.e3]\n",
    "beta_list = [1.e-3, 1.e-4, 1.e-5, 1.e-6, 1.e-7]\n",
    "run = 0\n",
    "\n",
    "for beta in beta_list:\n",
    "    for gamma in gamma_list:\n",
    "        with open(\"params/\" + \"basis_run_vae.yaml\") as f:\n",
    "            params = yaml.load(f, Loader=yaml.FullLoader)\n",
    "        \n",
    "        params[\"run_name\"] = f\"default_with_{int(np.log10(gamma)):1d}_gamma_{int(np.log10(beta)):1d}_beta\"\n",
    "        params[\"block_name\"] = block_name\n",
    "        params[\"VAE_gamma\"] = gamma\n",
    "        params[\"VAE_beta\"] = beta\n",
    "                \n",
    "        with open(\"params/\" + f\"run_{run+1}.yaml\", \"w\") as f:\n",
    "            yaml.dump(params, f)\n",
    "                \n",
    "        run += 1"
   ]
  },
  {
   "cell_type": "code",
   "execution_count": null,
   "metadata": {},
   "outputs": [],
   "source": []
  }
 ],
 "metadata": {
  "kernelspec": {
   "display_name": "Python 3.10.6",
   "language": "python",
   "name": "python3"
  },
  "language_info": {
   "codemirror_mode": {
    "name": "ipython",
    "version": 3
   },
   "file_extension": ".py",
   "mimetype": "text/x-python",
   "name": "python",
   "nbconvert_exporter": "python",
   "pygments_lexer": "ipython3",
   "version": "3.10.6"
  },
  "vscode": {
   "interpreter": {
    "hash": "51d46b1057c4696c626cdc8830621afab27494f007d13e43c67d358dbe36a08c"
   }
  }
 },
 "nbformat": 4,
 "nbformat_minor": 4
}
