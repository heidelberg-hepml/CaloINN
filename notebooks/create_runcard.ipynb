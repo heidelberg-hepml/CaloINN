{
 "cells": [
  {
   "cell_type": "code",
   "execution_count": 1,
   "metadata": {},
   "outputs": [],
   "source": [
    "import yaml\n",
    "import numpy as np"
   ]
  },
  {
   "cell_type": "code",
   "execution_count": 2,
   "metadata": {},
   "outputs": [
    {
     "name": "stdout",
     "output_type": "stream",
     "text": [
      "/remote/gpu06/ernst/Master_Thesis/Increase_energy_dimensions/CaloINN\n"
     ]
    }
   ],
   "source": [
    "cd .."
   ]
  },
  {
   "cell_type": "code",
   "execution_count": 4,
   "metadata": {},
   "outputs": [],
   "source": [
    "run = 0\n",
    "for bayesian in  [True, False]:\n",
    "    for only_some_voxels in [True, False]:\n",
    "        for only_one_layers in [True, False]:\n",
    "            \n",
    "            run_name = \"Test_run_large\"\n",
    "            \n",
    "            if bayesian:\n",
    "                with open(\"params/\" + \"basis_run.yaml\") as f:\n",
    "                    params = yaml.load(f, Loader=yaml.FullLoader)\n",
    "                run_name+=\"_bayesian\"\n",
    "            else:\n",
    "                with open(\"params/\" + \"basis_run_non_bayesian.yaml\") as f:\n",
    "                    params = yaml.load(f, Loader=yaml.FullLoader)\n",
    "                run_name += \"_non_bayesian\"\n",
    "                \n",
    "            params[\"internal_size\"] = 256\n",
    "                \n",
    "            if only_one_layers:\n",
    "                # Cannot use extra dims with one layer!\n",
    "                params[\"use_extra_dims\"] = False\n",
    "                params[\"use_extra_dim\"] = True\n",
    "                params[\"calo_layer\"] = 0\n",
    "                run_name += \"_first_layer\"      \n",
    "                    \n",
    "            if only_some_voxels:\n",
    "                params[\"voxels\"] = [-3,-2,-1]\n",
    "                run_name += \"_small\"\n",
    "            else:\n",
    "                run_name += \"_full\"\n",
    "                \n",
    "                \n",
    "            params[\"run_name\"] = run_name\n",
    "            \n",
    "            with open(\"params/\" + f\"run_{run+1}.yaml\", \"w\") as f:\n",
    "                yaml.dump(params, f)\n",
    "                \n",
    "            run += 1\n",
    "                "
   ]
  }
 ],
 "metadata": {
  "kernelspec": {
   "display_name": "Python [conda env:ernst-CaloINN] *",
   "language": "python",
   "name": "conda-env-ernst-CaloINN-py"
  },
  "vscode": {
   "interpreter": {
    "hash": "51d46b1057c4696c626cdc8830621afab27494f007d13e43c67d358dbe36a08c"
   }
  }
 },
 "nbformat": 4,
 "nbformat_minor": 4
}
