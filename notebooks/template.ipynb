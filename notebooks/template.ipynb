{
 "cells": [
  {
   "attachments": {},
   "cell_type": "markdown",
   "metadata": {},
   "source": [
    "# Preperation"
   ]
  },
  {
   "cell_type": "code",
   "execution_count": 1,
   "metadata": {},
   "outputs": [],
   "source": [
    "import torch\n",
    "import matplotlib.pyplot as plt\n",
    "import yaml\n",
    "import os\n",
    "import sys\n",
    "from copy import deepcopy\n",
    "import h5py\n",
    "from torch.utils.data import Dataset, DataLoader, TensorDataset, random_split\n",
    "import numpy as np\n",
    "\n",
    "\n",
    "from sklearn.metrics import accuracy_score\n",
    "from sklearn.metrics import roc_auc_score\n",
    "from sklearn.isotonic import IsotonicRegression\n",
    "from sklearn.calibration import calibration_curve"
   ]
  },
  {
   "cell_type": "code",
   "execution_count": 2,
   "metadata": {},
   "outputs": [
    {
     "name": "stdout",
     "output_type": "stream",
     "text": [
      "/remote/gpu06/ernst/Master_Thesis/Only_Energy_Dimensions/CaloINN\n"
     ]
    }
   ],
   "source": [
    "cd ../.."
   ]
  },
  {
   "cell_type": "code",
   "execution_count": 3,
   "metadata": {},
   "outputs": [
    {
     "name": "stdout",
     "output_type": "stream",
     "text": [
      "/remote/gpu06/ernst/Master_Thesis/Only_Energy_Dimensions/CaloINN/src\n"
     ]
    }
   ],
   "source": [
    "cd src"
   ]
  },
  {
   "cell_type": "code",
   "execution_count": 4,
   "metadata": {},
   "outputs": [],
   "source": [
    "from model import CINN\n",
    "from trainer import INNTrainer\n",
    "import data_util\n",
    "from documenter import Documenter\n",
    "from plotter import Plotter\n",
    "from plotting import plot_hist\n",
    "from matplotlib import cm\n",
    "from myDataLoader import MyDataLoader\n",
    "from calc_obs import *\n",
    "from trainer import DNNTrainer\n",
    "from model import CINN, DNN\n",
    "import plotting"
   ]
  },
  {
   "cell_type": "code",
   "execution_count": 5,
   "metadata": {},
   "outputs": [
    {
     "name": "stdout",
     "output_type": "stream",
     "text": [
      "/remote/gpu06/ernst/Master_Thesis/Only_Energy_Dimensions/CaloINN\n"
     ]
    }
   ],
   "source": [
    "cd .."
   ]
  },
  {
   "cell_type": "code",
   "execution_count": null,
   "metadata": {},
   "outputs": [],
   "source": [
    "def load_trainer(directory, use_cuda=True):\n",
    "    use_cuda = torch.cuda.is_available() and use_cuda\n",
    "    device = 'cuda:0' if use_cuda else 'cpu' \n",
    "\n",
    "\n",
    "    with open(directory + \"/params.yaml\") as f:\n",
    "        params = yaml.load(f, Loader=yaml.FullLoader)\n",
    "        \n",
    "    doc = Documenter(params['run_name'], existing_run=True, basedir=directory,\n",
    "                    log_name=\"log_jupyter.txt\", read_only=True)\n",
    "    \n",
    "    particle = params.get(\"particle_type\", \"piplus\")\n",
    "\n",
    "    data_path_train = os.path.join(\"..\",\"..\", \"Datasets\", particle , \"train_\" + particle + \".hdf5\")\n",
    "    params[\"data_path_train\"] = data_path_train\n",
    "\n",
    "    data_path_test = os.path.join(\"..\",\"..\", \"Datasets\", particle , \"test_\" + particle + \".hdf5\")\n",
    "    params[\"data_path_test\"] = data_path_test\n",
    "\n",
    "    classification_set = os.path.join(\"..\",\"..\", \"Datasets\", particle , \"cls_\" + particle + \".hdf5\")\n",
    "    params[\"classification_set\"] = classification_set\n",
    "    \n",
    "    trainer = INNTrainer(params, device, doc)\n",
    "    \n",
    "    return trainer, params, device, doc"
   ]
  },
  {
   "cell_type": "code",
   "execution_count": 8,
   "metadata": {},
   "outputs": [
    {
     "name": "stderr",
     "output_type": "stream",
     "text": [
      "/remote/gpu06/ernst/envs/CaloINN/lib/python3.10/site-packages/torch/cuda/__init__.py:123: UserWarning: \n",
      "    Found GPU1 NVIDIA GeForce GTX TITAN which is of cuda capability 3.5.\n",
      "    PyTorch no longer supports this GPU because it is too old.\n",
      "    The minimum cuda capability supported by this library is 3.7.\n",
      "    \n",
      "  warnings.warn(old_gpu_warn % (d, name, major, minor, min_arch // 10, min_arch % 10))\n",
      "/remote/gpu06/ernst/envs/CaloINN/lib/python3.10/site-packages/torch/cuda/__init__.py:123: UserWarning: \n",
      "    Found GPU2 NVIDIA GeForce GTX TITAN which is of cuda capability 3.5.\n",
      "    PyTorch no longer supports this GPU because it is too old.\n",
      "    The minimum cuda capability supported by this library is 3.7.\n",
      "    \n",
      "  warnings.warn(old_gpu_warn % (d, name, major, minor, min_arch // 10, min_arch % 10))\n"
     ]
    },
    {
     "name": "stdout",
     "output_type": "stream",
     "text": [
      "Input dimension: 3\n",
      "num samples out of bounds: 0\n",
      "number of parameters: 1775964\n"
     ]
    }
   ],
   "source": [
    "directory = \"20230119_141155_Test_run_large_non_bayesian_first_layer_full\"\n",
    "trainer, params, device, doch = load_trainer(directory)\n",
    "trainer.load()\n"
   ]
  }
 ],
 "metadata": {
  "kernelspec": {
   "display_name": "Python [conda env:ernst-CaloINN] *",
   "language": "python",
   "name": "conda-env-ernst-CaloINN-py"
  },
  "language_info": {
   "codemirror_mode": {
    "name": "ipython",
    "version": 3
   },
   "file_extension": ".py",
   "mimetype": "text/x-python",
   "name": "python",
   "nbconvert_exporter": "python",
   "pygments_lexer": "ipython3",
   "version": "3.10.6"
  },
  "orig_nbformat": 4
 },
 "nbformat": 4,
 "nbformat_minor": 2
}
