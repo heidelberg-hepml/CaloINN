{
 "cells": [
  {
   "attachments": {},
   "cell_type": "markdown",
   "metadata": {},
   "source": [
    "# Preperation"
   ]
  },
  {
   "cell_type": "code",
   "execution_count": 1,
   "metadata": {},
   "outputs": [],
   "source": [
    "import torch\n",
    "import matplotlib.pyplot as plt\n",
    "import yaml\n",
    "import os\n",
    "import sys\n",
    "from copy import deepcopy\n",
    "import h5py\n",
    "from torch.utils.data import Dataset, DataLoader, TensorDataset, random_split\n",
    "import numpy as np\n",
    "\n",
    "\n",
    "from sklearn.metrics import accuracy_score\n",
    "from sklearn.metrics import roc_auc_score\n",
    "from sklearn.isotonic import IsotonicRegression\n",
    "from sklearn.calibration import calibration_curve"
   ]
  },
  {
   "cell_type": "code",
   "execution_count": 2,
   "metadata": {},
   "outputs": [
    {
     "name": "stdout",
     "output_type": "stream",
     "text": [
      "/remote/gpu06/ernst/Master_Thesis/add_VAE/CaloINN\n"
     ]
    }
   ],
   "source": [
    "cd .."
   ]
  },
  {
   "cell_type": "code",
   "execution_count": 3,
   "metadata": {},
   "outputs": [
    {
     "name": "stdout",
     "output_type": "stream",
     "text": [
      "/remote/gpu06/ernst/Master_Thesis/add_VAE/CaloINN/src\n"
     ]
    }
   ],
   "source": [
    "cd src"
   ]
  },
  {
   "cell_type": "code",
   "execution_count": 4,
   "metadata": {},
   "outputs": [],
   "source": [
    "from model import CINN\n",
    "from trainer import INNTrainer, DNNTrainer, VAETrainer\n",
    "import data_util\n",
    "from documenter import Documenter\n",
    "from plotter import Plotter\n",
    "from plotting import plot_hist\n",
    "from matplotlib import cm\n",
    "from myDataLoader import MyDataLoader\n",
    "from calc_obs import *\n",
    "from model import CINN, DNN\n",
    "import plotting"
   ]
  },
  {
   "cell_type": "code",
   "execution_count": 5,
   "metadata": {},
   "outputs": [
    {
     "name": "stdout",
     "output_type": "stream",
     "text": [
      "/remote/gpu06/ernst/Master_Thesis/add_VAE/CaloINN\n"
     ]
    }
   ],
   "source": [
    "cd .."
   ]
  },
  {
   "cell_type": "code",
   "execution_count": 6,
   "metadata": {},
   "outputs": [],
   "source": [
    "def load_trainer(directory, use_cuda=True):\n",
    "    use_cuda = torch.cuda.is_available() and use_cuda\n",
    "    device = 'cuda:0' if use_cuda else 'cpu' \n",
    "\n",
    "\n",
    "    with open(directory + \"/params.yaml\") as f:\n",
    "        params = yaml.load(f, Loader=yaml.FullLoader)\n",
    "        \n",
    "    doc = Documenter(params['run_name'], existing_run=True, basedir=directory,\n",
    "                    log_name=\"log_jupyter.txt\", read_only=True)\n",
    "    \n",
    "    particle = params.get(\"particle_type\", \"piplus\")\n",
    "\n",
    "    data_path_train = os.path.join(\"..\",\"..\", \"Datasets\", particle , \"train_\" + particle + \".hdf5\")\n",
    "    params[\"data_path_train\"] = data_path_train\n",
    "\n",
    "    data_path_test = os.path.join(\"..\",\"..\", \"Datasets\", particle , \"test_\" + particle + \".hdf5\")\n",
    "    params[\"data_path_test\"] = data_path_test\n",
    "\n",
    "    classification_set = os.path.join(\"..\",\"..\", \"Datasets\", particle , \"cls_\" + particle + \".hdf5\")\n",
    "    params[\"classification_set\"] = classification_set\n",
    "    \n",
    "    trainer = VAETrainer(params, device, doc)\n",
    "    \n",
    "    return trainer, params, device, doc"
   ]
  },
  {
   "attachments": {},
   "cell_type": "markdown",
   "metadata": {},
   "source": [
    "# Start calculations"
   ]
  },
  {
   "cell_type": "code",
   "execution_count": 7,
   "metadata": {},
   "outputs": [
    {
     "name": "stdout",
     "output_type": "stream",
     "text": [
      "Using the directory: /remote/gpu06/ernst/Master_Thesis/add_VAE/CaloINN/results/2023_01_27_test_runs/Default_setup\n",
      "cuda:0\n"
     ]
    },
    {
     "name": "stderr",
     "output_type": "stream",
     "text": [
      "/remote/gpu06/ernst/envs/CaloINN/lib/python3.10/site-packages/torch/cuda/__init__.py:123: UserWarning: \n",
      "    Found GPU1 NVIDIA GeForce GTX TITAN which is of cuda capability 3.5.\n",
      "    PyTorch no longer supports this GPU because it is too old.\n",
      "    The minimum cuda capability supported by this library is 3.7.\n",
      "    \n",
      "  warnings.warn(old_gpu_warn % (d, name, major, minor, min_arch // 10, min_arch % 10))\n",
      "/remote/gpu06/ernst/envs/CaloINN/lib/python3.10/site-packages/torch/cuda/__init__.py:123: UserWarning: \n",
      "    Found GPU2 NVIDIA GeForce GTX TITAN which is of cuda capability 3.5.\n",
      "    PyTorch no longer supports this GPU because it is too old.\n",
      "    The minimum cuda capability supported by this library is 3.7.\n",
      "    \n",
      "  warnings.warn(old_gpu_warn % (d, name, major, minor, min_arch // 10, min_arch % 10))\n"
     ]
    },
    {
     "name": "stdout",
     "output_type": "stream",
     "text": [
      "VAE(\n",
      "  (logit_trafo_in): LogitTransformation()\n",
      "  (encoder): Sequential(\n",
      "    (fc0): Linear(in_features=93, out_features=80, bias=True)\n",
      "    (relu0): ReLU()\n",
      "    (fc1): Linear(in_features=80, out_features=80, bias=True)\n",
      "    (relu1): ReLU()\n",
      "    (fc2): Linear(in_features=80, out_features=70, bias=True)\n",
      "    (relu2): ReLU()\n",
      "    (fc3): Linear(in_features=70, out_features=70, bias=True)\n",
      "    (relu3): ReLU()\n",
      "    (fc4): Linear(in_features=70, out_features=60, bias=True)\n",
      "    (relu4): ReLU()\n",
      "    (fc5): Linear(in_features=60, out_features=50, bias=True)\n",
      "    (relu5): ReLU()\n",
      "    (fc_mu_logvar): Linear(in_features=50, out_features=40, bias=True)\n",
      "  )\n",
      "  (decoder): Sequential(\n",
      "    (fc0): Linear(in_features=20, out_features=50, bias=True)\n",
      "    (relu0): ReLU()\n",
      "    (fc1): Linear(in_features=50, out_features=60, bias=True)\n",
      "    (relu1): ReLU()\n",
      "    (fc2): Linear(in_features=60, out_features=70, bias=True)\n",
      "    (relu2): ReLU()\n",
      "    (fc3): Linear(in_features=70, out_features=70, bias=True)\n",
      "    (relu3): ReLU()\n",
      "    (fc4): Linear(in_features=70, out_features=80, bias=True)\n",
      "    (relu4): ReLU()\n",
      "    (fc5): Linear(in_features=80, out_features=80, bias=True)\n",
      "    (relu5): ReLU()\n",
      "    (fc_out): Linear(in_features=80, out_features=93, bias=True)\n",
      "  )\n",
      "  (logit_trafo_out): LogitTransformation()\n",
      ")\n"
     ]
    }
   ],
   "source": [
    "directory = \"/remote/gpu06/ernst/Master_Thesis/add_VAE/CaloINN/results/2023_01_27_test_runs/Default_setup\"\n",
    "trainer, params, device, doc = load_trainer(directory)\n",
    "trainer.load()\n"
   ]
  }
 ],
 "metadata": {
  "kernelspec": {
   "display_name": "Python [conda env:ernst-CaloINN] *",
   "language": "python",
   "name": "conda-env-ernst-CaloINN-py"
  },
  "language_info": {
   "codemirror_mode": {
    "name": "ipython",
    "version": 3
   },
   "file_extension": ".py",
   "mimetype": "text/x-python",
   "name": "python",
   "nbconvert_exporter": "python",
   "pygments_lexer": "ipython3",
   "version": "3.10.6"
  },
  "orig_nbformat": 4,
  "vscode": {
   "interpreter": {
    "hash": "51d46b1057c4696c626cdc8830621afab27494f007d13e43c67d358dbe36a08c"
   }
  }
 },
 "nbformat": 4,
 "nbformat_minor": 2
}
