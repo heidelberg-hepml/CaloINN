{
 "cells": [
  {
   "attachments": {},
   "cell_type": "markdown",
   "metadata": {},
   "source": [
    "# Preperation"
   ]
  },
  {
   "cell_type": "code",
   "execution_count": 1,
   "metadata": {},
   "outputs": [],
   "source": [
    "import torch\n",
    "import matplotlib.pyplot as plt\n",
    "import yaml\n",
    "import os\n",
    "import sys\n",
    "from copy import deepcopy\n",
    "import h5py\n",
    "from torch.utils.data import Dataset, DataLoader, TensorDataset, random_split\n",
    "import numpy as np\n",
    "import argparse\n",
    "\n",
    "\n",
    "from sklearn.metrics import accuracy_score\n",
    "from sklearn.metrics import roc_auc_score\n",
    "from sklearn.isotonic import IsotonicRegression\n",
    "from sklearn.calibration import calibration_curve"
   ]
  },
  {
   "cell_type": "code",
   "execution_count": 2,
   "metadata": {},
   "outputs": [
    {
     "name": "stdout",
     "output_type": "stream",
     "text": [
      "/remote/gpu06/ernst/Master_Thesis/vae_calo_challenge/CaloINN\n"
     ]
    }
   ],
   "source": [
    "cd .."
   ]
  },
  {
   "cell_type": "code",
   "execution_count": 3,
   "metadata": {},
   "outputs": [
    {
     "name": "stdout",
     "output_type": "stream",
     "text": [
      "/remote/gpu06/ernst/Master_Thesis/vae_calo_challenge/CaloINN/src\n"
     ]
    }
   ],
   "source": [
    "cd src"
   ]
  },
  {
   "cell_type": "code",
   "execution_count": 4,
   "metadata": {},
   "outputs": [],
   "source": [
    "from model import CINN\n",
    "from trainer import DNNTrainer, VAETrainer\n",
    "import data_util\n",
    "from documenter import Documenter\n",
    "from plotter import Plotter\n",
    "from matplotlib import cm\n",
    "from myDataLoader import MyDataLoader\n",
    "from calc_obs import *\n",
    "from model import CINN, DNN\n",
    "import plotting\n",
    "import HighLevelFeatures as HLF\n",
    "from XMLHandler import XMLHandler"
   ]
  },
  {
   "cell_type": "code",
   "execution_count": 5,
   "metadata": {},
   "outputs": [
    {
     "name": "stdout",
     "output_type": "stream",
     "text": [
      "/remote/gpu06/ernst/Master_Thesis/vae_calo_challenge/CaloINN\n"
     ]
    }
   ],
   "source": [
    "cd .."
   ]
  },
  {
   "cell_type": "code",
   "execution_count": 6,
   "metadata": {},
   "outputs": [],
   "source": [
    "def load_trainer(directory, use_cuda=True):\n",
    "    use_cuda = torch.cuda.is_available() and use_cuda\n",
    "    device = 'cuda:0' if use_cuda else 'cpu' \n",
    "\n",
    "\n",
    "    with open(directory + \"/params.yaml\") as f:\n",
    "        params = yaml.load(f, Loader=yaml.FullLoader)\n",
    "        \n",
    "    doc = Documenter(params['run_name'], existing_run=True, basedir=directory,\n",
    "                    log_name=\"log_jupyter.txt\", read_only=True)\n",
    "    \n",
    "    particle = params.get(\"particle_type\", \"piplus\")\n",
    "\n",
    "    if \"data_path\" not in params:\n",
    "        particle_type = params.get(\"particle_type\", \"pion\")\n",
    "        data_path = f\"/remote/gpu06/ernst/Master_Thesis/Datasets/Dataset1/dataset_1_{particle_type}s_1.hdf5\"\n",
    "        params[\"data_path\"] = data_path\n",
    "        \n",
    "    trainer = VAETrainer(params, device, doc)\n",
    "    \n",
    "    return trainer, params, device, doc"
   ]
  },
  {
   "attachments": {},
   "cell_type": "markdown",
   "metadata": {},
   "source": [
    "# Start calculations"
   ]
  },
  {
   "cell_type": "code",
   "execution_count": 7,
   "metadata": {},
   "outputs": [
    {
     "name": "stdout",
     "output_type": "stream",
     "text": [
      "Using the directory: /remote/gpu06/ernst/Master_Thesis/vae_calo_challenge/CaloINN/results/2023_03_21_095348_Default\n",
      "cuda:0\n"
     ]
    },
    {
     "name": "stderr",
     "output_type": "stream",
     "text": [
      "/remote/gpu06/ernst/envs/CaloINN/lib/python3.10/site-packages/torch/cuda/__init__.py:123: UserWarning: \n",
      "    Found GPU1 NVIDIA GeForce GTX TITAN which is of cuda capability 3.5.\n",
      "    PyTorch no longer supports this GPU because it is too old.\n",
      "    The minimum cuda capability supported by this library is 3.7.\n",
      "    \n",
      "  warnings.warn(old_gpu_warn % (d, name, major, minor, min_arch // 10, min_arch % 10))\n",
      "/remote/gpu06/ernst/envs/CaloINN/lib/python3.10/site-packages/torch/cuda/__init__.py:123: UserWarning: \n",
      "    Found GPU2 NVIDIA GeForce GTX TITAN which is of cuda capability 3.5.\n",
      "    PyTorch no longer supports this GPU because it is too old.\n",
      "    The minimum cuda capability supported by this library is 3.7.\n",
      "    \n",
      "  warnings.warn(old_gpu_warn % (d, name, major, minor, min_arch // 10, min_arch % 10))\n"
     ]
    },
    {
     "name": "stdout",
     "output_type": "stream",
     "text": [
      "CVAE(\n",
      "  (noise_layer_in): noise_layer()\n",
      "  (encoder): Sequential(\n",
      "    (fc0): Linear(in_features=541, out_features=4500, bias=True)\n",
      "    (relu0): ReLU()\n",
      "    (fc1): Linear(in_features=4500, out_features=1000, bias=True)\n",
      "    (relu1): ReLU()\n",
      "    (fc2): Linear(in_features=1000, out_features=150, bias=True)\n",
      "    (relu2): ReLU()\n",
      "    (fc_mu_logvar): Linear(in_features=150, out_features=100, bias=True)\n",
      "  )\n",
      "  (decoder): Sequential(\n",
      "    (fc0): Linear(in_features=58, out_features=150, bias=True)\n",
      "    (relu0): ReLU()\n",
      "    (fc1): Linear(in_features=150, out_features=1000, bias=True)\n",
      "    (relu1): ReLU()\n",
      "    (fc2): Linear(in_features=1000, out_features=4500, bias=True)\n",
      "    (relu2): ReLU()\n",
      "    (fc_out): Linear(in_features=4500, out_features=533, bias=True)\n",
      "  )\n",
      "  (noise_layer_out): noise_layer()\n",
      "  (norm_x_in): FixedLinearTransform()\n",
      "  (norm_x_out): FixedLinearTransform()\n",
      ")\n"
     ]
    }
   ],
   "source": [
    "directory = \"/remote/gpu06/ernst/Master_Thesis/vae_calo_challenge/CaloINN/results/2023_03_21_095348_Default\"\n",
    "trainer, params, device, doc = load_trainer(directory)\n",
    "trainer.load()\n"
   ]
  }
 ],
 "metadata": {
  "kernelspec": {
   "display_name": "Python 3",
   "language": "python",
   "name": "python3"
  },
  "language_info": {
   "codemirror_mode": {
    "name": "ipython",
    "version": 3
   },
   "file_extension": ".py",
   "mimetype": "text/x-python",
   "name": "python",
   "nbconvert_exporter": "python",
   "pygments_lexer": "ipython3",
   "version": "3.10.6"
  },
  "orig_nbformat": 4
 },
 "nbformat": 4,
 "nbformat_minor": 2
}
